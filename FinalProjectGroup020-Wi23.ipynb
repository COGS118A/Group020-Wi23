{
 "cells": [
  {
   "cell_type": "markdown",
   "metadata": {},
   "source": [
    "# COGS 118A - Final Project"
   ]
  },
  {
   "attachments": {},
   "cell_type": "markdown",
   "metadata": {},
   "source": [
    "# The Price of Beer\n",
    "\n",
    "## Group members\n",
    "- Dhathry Doppalapudi | A16298078\n",
    "- Serina Khanna | A15851279\n",
    "- Niko Calsada | A15352545"
   ]
  },
  {
   "cell_type": "markdown",
   "metadata": {},
   "source": [
    "# Abstract \n",
    "This section should be short and clearly stated. It should be a single paragraph <200 words.  It should summarize: \n",
    "- what your goal/problem is\n",
    "- what the data used represents \n",
    "- the solution/what you did\n",
    "- major results you came up with (mention how results are measured) \n",
    "\n",
    "__NB:__ this final project form is much more report-like than the proposal and the checkpoint. Think in terms of writing a paper with bits of code in the middle to make the plots/tables"
   ]
  },
  {
   "attachments": {},
   "cell_type": "markdown",
   "metadata": {},
   "source": [
    "# Background\n",
    "\n",
    "Since COVID-19 began to spread in March 2020, supply chain issues for various products have increased and many industries have been affected. Among restaurants, there was a significant labor shortage and home delivery systems became more popular <a name=\"forbes\"></a>[<sup>[5]</sup>](#forbes). While these new options are definitely more popular among consumers, a lack of in-person customers have affected establishments that rely on people buying their products in-person, such as establishments that sell alcohol. In addition, the war in Ukraine and inflation have impacted the alcohol industry, with 20% of the world’s barley coming from Ukraine and beer prices rising slightly<a name=\"war\"></a>[<sup>[1]</sup>](#war). In addition, given that our data is from a Russian bar, it’s possible that our data has been impacted by the Russian-Ukrainian war as many people boycotted Russian alcohol<a name=\"mccormick\"></a>[<sup>[2]</sup>](#mccormick).\n",
    "\n",
    "We’re interested in training a machine learning model to predict craft beer prices based on data directly from a bar located in Russia. There have been studies on beer prices<a name=\"beeralytics\"></a>[<sup>[3]</sup>](#beeralytics), but none that have attempted to predict beer prices themselves. There have also been models trained on predicting beer quality<a name=\"jeevan\"></a>[<sup>[4]</sup>](#jeevan)., which predicts the quality of a beer using ratings from the Tastings website, alcohol content, kind of alcohol, price, country of origin, and style/flavor. While many of these quantities overlap with our project, we won’t be training our model on opinion-based data.\n",
    "\n",
    "Our trained model can be important for Russian bars to learn how to price their beers, or for brands to be able to predict a good price for a new beer.\n"
   ]
  },
  {
   "attachments": {},
   "cell_type": "markdown",
   "metadata": {},
   "source": [
    "# Problem Statement\n",
    "\n",
    "In our project, we aim to solve the problem of predicting the future prices of different types of craft beer in Russia. The majority of variables we will analyze in this project, such as ABV (percentage), volume (mL), number of units sold, and discounted prices are quantitative metrics, which will allow us to predict the future price (in Russian rubles) mathematically. We are implementing multiple linear regression to predict the beer prices based on the multiple independent variables we have in our data. After this, our model can be used by beer manufacturers to determine the reasonable price to set their beer or by bars to determine when to purchase beer."
   ]
  },
  {
   "attachments": {},
   "cell_type": "markdown",
   "metadata": {},
   "source": [
    "# Data\n",
    "\n",
    "Dataset 1: https://www.kaggle.com/datasets/podsyp/sales-in-craft-beer-bar?select=Product_range.csv\n",
    "\n",
    "Dataset 2: https://www.kaggle.com/datasets/podsyp/sales-in-craft-beer-bar?select=Transactions.csv\n",
    "\n",
    "Our dataset contains information regarding Nelson Sauvin Bar sales history. Nelson Sauvin Bar is a Russian establishment founded in the spring of 2016. Their inventory contains a wide variety of domestic Russian beers and imported beers from other European countries and the USA. We have obtained two different data sets regarding Nelson Sauvin’s product range and their transaction history. In this project, we will specifically be looking at their transaction history from January 2020 to September 2022.\n",
    "\n",
    "The first dataset regarding product range contains 5314 observations listed as product codes. For each code, there are 8 associated variables describing the following features: product code, country of origin, vendor code, name of product, ABU, size, retail price, and base unit. The critical variables we focus on are product code, ABU (%), retail price (rubles), and size (L).\n",
    "\n",
    "The second dataset, our transaction history dataset contains 50084 observations which represent the date and times of register unloadings. Each unloading has the following 7 features: product code, amount of units sold, sale amounts, discount amount, profit, discount percentage, and percentage markup. The variables we focus on are product code, amount (rubles), and sale amount (rubles).\n",
    "\n",
    "We clean both datasets individually by removing unimportant variables and any rows with null values. We also convert any values needed to be floats and reset the index. We then merge both datasets together based on product code. \n",
    "\n",
    "Additionally, since our project is only concerned with this bar in Russia, there is no conversion of any currency over to the USD. All values of currency will remain in rubles.\n",
    "\n"
   ]
  },
  {
   "cell_type": "code",
   "execution_count": 26,
   "metadata": {},
   "outputs": [
    {
     "data": {
      "text/html": [
       "<div>\n",
       "<style scoped>\n",
       "    .dataframe tbody tr th:only-of-type {\n",
       "        vertical-align: middle;\n",
       "    }\n",
       "\n",
       "    .dataframe tbody tr th {\n",
       "        vertical-align: top;\n",
       "    }\n",
       "\n",
       "    .dataframe thead th {\n",
       "        text-align: right;\n",
       "    }\n",
       "</style>\n",
       "<table border=\"1\" class=\"dataframe\">\n",
       "  <thead>\n",
       "    <tr style=\"text-align: right;\">\n",
       "      <th></th>\n",
       "      <th>Product_code</th>\n",
       "      <th>Vendor_code</th>\n",
       "      <th>Name</th>\n",
       "      <th>Retail_price</th>\n",
       "      <th>Base_unit</th>\n",
       "      <th>Country_of_Origin</th>\n",
       "      <th>Size</th>\n",
       "      <th>ABV</th>\n",
       "    </tr>\n",
       "  </thead>\n",
       "  <tbody>\n",
       "    <tr>\n",
       "      <th>0</th>\n",
       "      <td>5028</td>\n",
       "      <td>NaN</td>\n",
       "      <td>1 Symbiotica Apple 0.375</td>\n",
       "      <td>300.0</td>\n",
       "      <td>Pieces</td>\n",
       "      <td>Russia</td>\n",
       "      <td>0.375</td>\n",
       "      <td>4.5</td>\n",
       "    </tr>\n",
       "    <tr>\n",
       "      <th>1</th>\n",
       "      <td>4846</td>\n",
       "      <td>NaN</td>\n",
       "      <td>1 Symbiotica Hard Kombucha Renegade Aronia 0.33</td>\n",
       "      <td>200.0</td>\n",
       "      <td>Pieces</td>\n",
       "      <td>Russia</td>\n",
       "      <td>0.330</td>\n",
       "      <td>3.0</td>\n",
       "    </tr>\n",
       "    <tr>\n",
       "      <th>2</th>\n",
       "      <td>1340</td>\n",
       "      <td>NaN</td>\n",
       "      <td>1000 IBU Imperial IPA Barrel l</td>\n",
       "      <td>960.0</td>\n",
       "      <td>Liters</td>\n",
       "      <td>NaN</td>\n",
       "      <td>1.000</td>\n",
       "      <td>9.6</td>\n",
       "    </tr>\n",
       "    <tr>\n",
       "      <th>3</th>\n",
       "      <td>4372</td>\n",
       "      <td>NaN</td>\n",
       "      <td>18th Street Brewery</td>\n",
       "      <td>NaN</td>\n",
       "      <td>NaN</td>\n",
       "      <td>USA</td>\n",
       "      <td>NaN</td>\n",
       "      <td>NaN</td>\n",
       "    </tr>\n",
       "    <tr>\n",
       "      <th>4</th>\n",
       "      <td>4302</td>\n",
       "      <td>NaN</td>\n",
       "      <td>18th Street Brewery Deal With The Devil 0.473</td>\n",
       "      <td>630.0</td>\n",
       "      <td>Pieces</td>\n",
       "      <td>USA</td>\n",
       "      <td>0.473</td>\n",
       "      <td>8.5</td>\n",
       "    </tr>\n",
       "  </tbody>\n",
       "</table>\n",
       "</div>"
      ],
      "text/plain": [
       "   Product_code Vendor_code                                             Name  \\\n",
       "0          5028         NaN                         1 Symbiotica Apple 0.375   \n",
       "1          4846         NaN  1 Symbiotica Hard Kombucha Renegade Aronia 0.33   \n",
       "2          1340         NaN                   1000 IBU Imperial IPA Barrel l   \n",
       "3          4372         NaN                              18th Street Brewery   \n",
       "4          4302         NaN    18th Street Brewery Deal With The Devil 0.473   \n",
       "\n",
       "   Retail_price Base_unit Country_of_Origin   Size  ABV  \n",
       "0         300.0    Pieces            Russia  0.375  4.5  \n",
       "1         200.0    Pieces            Russia  0.330  3.0  \n",
       "2         960.0    Liters               NaN  1.000  9.6  \n",
       "3           NaN       NaN               USA    NaN  NaN  \n",
       "4         630.0    Pieces               USA  0.473  8.5  "
      ]
     },
     "execution_count": 26,
     "metadata": {},
     "output_type": "execute_result"
    }
   ],
   "source": [
    "# import packages and get data\n",
    "import numpy as np\n",
    "import pandas as pd\n",
    "import sklearn #if this doesn't work, run in terminal: $pip3 install -U scikit-learn scipy matplotlib \n",
    "import scipy\n",
    "import matplotlib.pyplot as plt\n",
    "import seaborn as sns\n",
    "\n",
    "product_range = pd.read_csv('data/Product_range.csv')\n",
    "transactions = pd.read_csv('data/Transactions.csv')\n",
    "product_range.head()"
   ]
  },
  {
   "cell_type": "code",
   "execution_count": 29,
   "metadata": {},
   "outputs": [
    {
     "name": "stdout",
     "output_type": "stream",
     "text": [
      "Product range shape:(3838, 12)\n",
      "Transaction shape: (38297, 8)\n"
     ]
    }
   ],
   "source": [
    "# Check new shape/total remaining data of both\n",
    "print(\"Product range shape:\" + str(product_range.shape))\n",
    "print(\"Transaction shape: \" + str(transactions.shape))"
   ]
  },
  {
   "cell_type": "code",
   "execution_count": 34,
   "metadata": {},
   "outputs": [
    {
     "name": "stdout",
     "output_type": "stream",
     "text": [
      "Merged shape: (29917, 19)\n"
     ]
    }
   ],
   "source": [
    "# Merge the two datasets\n",
    "df = product_range.merge(transactions, on= 'Product_code')\n",
    "print(\"Merged shape: \" + str(df.shape))"
   ]
  },
  {
   "cell_type": "code",
   "execution_count": 37,
   "metadata": {},
   "outputs": [],
   "source": [
    "from sklearn.model_selection import train_test_split\n",
    "from sklearn.linear_model import LinearRegression\n",
    "\n",
    "X3 = df[['Product_code', 'Size', 'ABV', 'Amount', 'Discount_amount', 'Profit', 'Percentage_markup', 'Discount_percentage', \"Sale_amount\"]] #, 'Profit'\n",
    "Y3 = df['Price']\n",
    "\n",
    "X3_train, X3_test, y3_train, y3_true = train_test_split(X3, Y3, test_size = 0.8, random_state = 0)\n",
    "\n",
    "LR_model3 = LinearRegression()\n",
    "LR_model3.fit(X3_train, y3_train)\n",
    "y3_pred = LR_model3.predict(X3_test)"
   ]
  },
  {
   "cell_type": "code",
   "execution_count": 38,
   "metadata": {},
   "outputs": [
    {
     "data": {
      "text/plain": [
       "Text(0, 0.5, 'Predicted')"
      ]
     },
     "execution_count": 38,
     "metadata": {},
     "output_type": "execute_result"
    },
    {
     "data": {
      "image/png": "[encoded data removed]",
      "text/plain": [
       "<Figure size 700x350 with 1 Axes>"
      ]
     },
     "metadata": {},
     "output_type": "display_data"
    }
   ],
   "source": [
    "plt.rcParams[\"figure.figsize\"] = [7.00, 3.50]\n",
    "plt.rcParams[\"figure.autolayout\"] = True\n",
    "plt.xlim(0,10000)\n",
    "plt.ylim(0,10000)\n",
    "plt.scatter(y3_true ,y3_pred)\n",
    "plt.xlabel('Actual')\n",
    "plt.ylabel('Predicted')"
   ]
  },
  {
   "attachments": {},
   "cell_type": "markdown",
   "metadata": {},
   "source": [
    "# Proposed Solution\n",
    "\n",
    "Because this is a regression problem, we are going to attempt to use multiple linear regression to train our model. Multiple linear regression allows us to predict continuous values (like the price of beer) when considering multiple independent variables (manufacturer, SKU, country of origin, SKU size, and alcohol by volume). Other models that could work include regular Linear Regression, polynomial regression for a polynomial relationship, or decision tree regression (which would be better suited with less independent variables).\n",
    "\n",
    "The libraries we will use are numpy, sklearn, and pandas.\n",
    "- Clean data of missing values, NaN, and variables that we won’t be considering\n",
    "- Check correlation of data via multiple scatter plots\n",
    "- Split data into test/train set\n",
    "- Formulate Multiple Linear Regression model\n",
    "- Fit model to train data, test model on testing data\n",
    "- Use Ordinary Least Squares to minimize the residual\n",
    "\n",
    "If we see that the relationship between any of the independent variables and the price is different than expected, or if any assumptions surrounding linear regression are broken, we will consider changing our model to another one. To make our results more accurate, we will also experiment with different kinds of regularization (OLS, L1, L2, Lasso) and different regularization strengths.\n"
   ]
  },
  {
   "attachments": {},
   "cell_type": "markdown",
   "metadata": {},
   "source": [
    "# Evaluation Metrics\n",
    "\n",
    "We are using the Mean Squared Error (MSE) to find the average difference between the actual and predicted values for craft beer prices, as it is the standard with Ordinary Least Squares.\n",
    "\n",
    "The equation for Mean Squared Error is:\n",
    "\n",
    "![](https://wikimedia.org/api/rest_v1/media/math/render/svg/ae01f23f2ed2814c7db94e1fdc952732f5ca533a)\n",
    "\n",
    "where given a vector of $n$ observations from a sample taken from $n$ data points on all independent variables, with $Y$ being the observed values being predicted and $\\hat{Y}$ being the predicted values.\n"
   ]
  },
  {
   "attachments": {},
   "cell_type": "markdown",
   "metadata": {},
   "source": [
    "# Results\n",
    "\n",
    "You may have done tons of work on this. Not all of it belongs here. \n",
    "\n",
    "Reports should have a __narrative__. Once you've looked through all your results over the quarter, decide on one main point and 2-4 secondary points you want us to understand. Include the detailed code and analysis results of those points only; you should spend more time/code/plots on your main point than the others.\n",
    "\n",
    "If you went down any blind alleys that you later decided to not pursue, please don't abuse the TAs time by throwing in 81 lines of code and 4 plots related to something you actually abandoned.  Consider deleting things that are not important to your narrative.  If its slightly relevant to the narrative or you just want us to know you tried something, you could keep it in by summarizing the result in this report in a sentence or two, moving the actual analysis to another file in your repo, and providing us a link to that file.\n",
    "\n",
    "### Multiple Linear Regression\n",
    "\n",
    "We determined it to be necessary to run multiple linear regression on our data because we firstly wanted a model that could predict the price of beer, hence linear regression seemed like a good fit. In this case, our response variable that we wished to predict is the price of the product, and the independent variables that we are monitoring are ABV, sale price, amount, and size. Since there are multiple independent variables, multiple linear regression was found to be the best model that we could start with.\n",
    "\n",
    "### Analysis of only product_range.csv\n",
    "\n",
    "Please read our analysis [here](results/ProductRangeAnalysis.ipynb).\n",
    "\n",
    "### Analysis of only transactions.csv\n",
    "\n",
    "Please read our analysis [here](results/TransactionsAnalysis.ipynb).\n",
    "\n",
    "### Subsection 4\n",
    "\n",
    "Perhaps some exploration of the model selection (hyper-parameters) or algorithm selection task. Validation curves, plots showing the variability of perfromance across folds of the cross-validation, etc. If you're doing one, the outcome of the null hypothesis test or parsimony principle check to show how you are selecting the best model.\n",
    "\n",
    "### Subsection 5 \n",
    "\n",
    "Maybe you do model selection again, but using a different kind of metric than before?\n",
    "\n"
   ]
  },
  {
   "cell_type": "markdown",
   "metadata": {},
   "source": [
    "# Discussion\n",
    "\n",
    "### Interpreting the result\n",
    "\n",
    "OK, you've given us quite a bit of tech informaiton above, now its time to tell us what to pay attention to in all that.  Think clearly about your results, decide on one main point and 2-4 secondary points you want us to understand. Highlight HOW your results support those points.  You probably want 2-5 sentences per point.\n",
    "\n",
    "### Limitations\n",
    "\n",
    "Are there any problems with the work?  For instance would more data change the nature of the problem? Would it be good to explore more hyperparams than you had time for?   \n",
    "\n",
    "### Ethics & Privacy\n",
    "\n",
    "If your project has obvious potential concerns with ethics or data privacy discuss that here.  Almost every ML project put into production can have ethical implications if you use your imagination. Use your imagination.\n",
    "\n",
    "Even if you can't come up with an obvious ethical concern that should be addressed, you should know that a large number of ML projects that go into producation have unintended consequences and ethical problems once in production. How will your team address these issues?\n",
    "\n",
    "Consider a tool to help you address the potential issues such as https://deon.drivendata.org\n",
    "\n",
    "### Conclusion\n",
    "\n",
    "Reiterate your main point and in just a few sentences tell us how your results support it. Mention how this work would fit in the background/context of other work in this field if you can. Suggest directions for future work if you want to."
   ]
  },
  {
   "attachments": {},
   "cell_type": "markdown",
   "metadata": {},
   "source": [
    "# Footnotes\n",
    "<a name=\"war\"></a>1.[^](#war): “War in Ukraine Could Impact Beer Prices in US.” ABC7 Chicago, 27 Feb. 2022, https://abc7chicago.com/russia-ukraine-war-cost-of-beer-prices-craft/11603203/. <br> \n",
    "<a name=\"mccormick\"></a>2.[^](#mccormick): McCormick, Tom, and Posted by Tom McCormick. “War in Ukraine Has Far Reaching Impact on Alcohol Beverage Industry.” ProBrewer, 1 Mar. 2022, https://www.probrewer.com/beverage-industry-news/international/war-in-ukraine-has-far-reaching-impact-on-alcohol-beverage-industry/. <br>\n",
    "<a name=\"beeralytics\"></a>3.[^](#beeralytics): “Beeralytics — A Guide to Analyzing Beer Prices from Web Data.” Towards Data Science, 23 March, 2020, https://towardsdatascience.com/beeralytics-a-guide-to-analyzing-beer-prices-from-web-data-37d4ba206071.<br>\n",
    "<a name=\"jeevan\"></a>4.[^](#jeevan): “[Project] Predicting Alcohol Quality Using Machine Learning - Part I.” UpLevel, 28 July 2020, https://projects.uplevel.work/features/predicting-alcohol-quality-using-machine-learning. <br>\n",
    "<a name=\"forbes\"></a>5.[^](#forbes): “Trends Affecting The Restaurant Industry In 2022” Forbes, 16 March 2022, https://www.forbes.com/sites/garyocchiogrosso/2022/03/16/trends-affecting-the-restaurant-industry-in-2022/ . <br>"
   ]
  }
 ],
 "metadata": {
  "kernelspec": {
   "display_name": "Python 3",
   "language": "python",
   "name": "python3"
  },
  "language_info": {
   "codemirror_mode": {
    "name": "ipython",
    "version": 3
   },
   "file_extension": ".py",
   "mimetype": "text/x-python",
   "name": "python",
   "nbconvert_exporter": "python",
   "pygments_lexer": "ipython3",
   "version": "3.9.6"
  }
 },
 "nbformat": 4,
 "nbformat_minor": 2
}
