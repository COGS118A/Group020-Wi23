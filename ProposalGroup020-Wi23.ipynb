{
 "cells": [
  {
   "cell_type": "markdown",
   "metadata": {},
   "source": [
    "# COGS 118A- Project Proposal"
   ]
  },
  {
   "attachments": {},
   "cell_type": "markdown",
   "metadata": {},
   "source": [
    "# Names\n",
    "- Dhathry Doppalapudi | A16298078\n",
    "- Serina Khanna | A15851279\n",
    "- Niko Calsada | A15352545"
   ]
  },
  {
   "attachments": {},
   "cell_type": "markdown",
   "metadata": {},
   "source": [
    "# Abstract \n",
    "The goal of our project is to predict beer future beer prices in Russia. This can be used by Russian bars and breweries to help them price their beers. The data used is from a craft beer bar in Russia and has variables such as product name, retail price, size, country of origin, and alcohol by volume (ABV). We will be using the data to understand how these variables affect the price and predict how the price of craft beer will change in the future. Performance will be measured by how low our error metrics such as mean squared error and mean absolute error are. "
   ]
  },
  {
   "attachments": {},
   "cell_type": "markdown",
   "metadata": {},
   "source": [
    "# Background\n",
    "Since COVID-19 began to spread in March 2020, supply chain issues for various products have increased and many industries have been affected. Among restaurants, there was a significant labor shortage and home delivery systems became more popular <a name=\"forbes\"></a>[<sup>[5]</sup>](#forbes). While these new options are definitely more popular among consumers, a lack of in-person customers have affected establishments that rely on people buying their products in-person, such as establishments that sell alcohol. In addition, the war in Ukraine and inflation have impacted the alcohol industry, with 20% of the world’s barley coming from Ukraine and beer prices rising slightly<a name=\"war\"></a>[<sup>[1]</sup>](#war). In addition, given that our data is from a Russian bar, it’s possible that our data has been impacted by the Russian-Ukrainian war as many people boycotted Russian alcohol<a name=\"mccormick\"></a>[<sup>[2]</sup>](#mccormick). \n",
    "\n",
    "We’re interested in training a machine learning model to predict craft beer prices. There have been studies on beer prices<a name=\"beeralytics\"></a>[<sup>[3]</sup>](#beeralytics), but none that have attempted to predict beer prices themselves. There have also been models trained on predicting beer quality<a name=\"jeevan\"></a>[<sup>[4]</sup>](#jeevan)., which predicts the quality of a beer using ratings from the Tastings website, alcohol content, kind of alcohol, price, country of origin, and style/flavor. While many of these quantities overlap with our project, we won’t be training our model on opinion-based data. \n",
    "\n",
    "Our trained model can be important for bars to learn how to price their beers, or for brands to be able to predict a good price for a new beer. "
   ]
  },
  {
   "attachments": {},
   "cell_type": "markdown",
   "metadata": {},
   "source": [
    "# Problem Statement\n",
    "In our project, we aim to solve the problem of predicting the future prices of different types of craft beer in Russia. The majority of variables we will analyze in this project, such as ABV, volume, number of units sold, and discounted prices are quantitative metrics, which will allow us to predict the future price mathematically. As for categorical variables such as country of origin and name of the craft beer, these will be one-hot encoded in order to analyze them mathematically. "
   ]
  },
  {
   "attachments": {},
   "cell_type": "markdown",
   "metadata": {},
   "source": [
    "# Data\n",
    "Dataset 1: https://www.kaggle.com/datasets/podsyp/sales-in-craft-beer-bar?select=Product_range.csv\n",
    "\n",
    "Dataset 2: https://www.kaggle.com/datasets/podsyp/sales-in-craft-beer-bar?select=Transactions.csv\n",
    "\n",
    "Our dataset contains information regarding Nelson Sauvin Bar sales history. Nelson Sauvin Bar is a Russian establishment founded in the spring of 2016. Their inventory contains a wide variety of domestic Russian beers and imported beers from other European countries and the USA. \n",
    "We have obtained two different data sets regarding their product range and their transaction history. In this project, we will specifically be looking at their transaction history from January 2020 to September 2022. \n",
    "\n",
    "The first dataset regarding product range contains 5314 observations listed as product codes. For each code, there are 7 associated variables decribing the following features: country of origin, vendor code, name of product, ABU, size, retail price, and base unit. The critical variables we will likely focus on are country of origin, name, ABU, retail price, and size.\n",
    "\n",
    "Our transaction history dataset contains 50084 observations which represent the date and times of register unloadings.  Each unloading has the following 7 features: product code, amount of units sold, sale amounts, discount amount, profit, discount percentage, and percentage markup. \n",
    "We intend to merge these two datasets together using their associated product code keys. In terms of data clean up, we may have to disregard the times of each unloading and focus on the trends show over days or months. Additionally, since our project is only concerned with this bar in Russia we do not intend to convert any currency over to the USD.  All values of currency will remain in rubles.\n"
   ]
  },
  {
   "attachments": {},
   "cell_type": "markdown",
   "metadata": {},
   "source": [
    "# Proposed Solution\n",
    "Because this is a regression problem, we are going to attempt to use multiple linear regression to train our model. Multiple linear regression allows us to predict continuous values (like the price of beer) when considering multiple independent variables (manufacturer, SKU, country of origin, SKU size, and alcohol by volume). Other models that could work include regular Linear Regression, polynomial regression for a polynomial relationship, or decision tree regression (which would be better suited with less independent variables). \n",
    "\n",
    "The libraries we will use are numpy, sklearn, and pandas.\n",
    "\n",
    "- Clean data of missing values, NaN, and variables that we won’t be considering\n",
    "- Check correlation of data via multiple scatter plots\n",
    "- Split data into test/train set\n",
    "- Formulate Multiple Linear Regression model\n",
    "- Fit model to train data, test model on testing data\n",
    "- Use Ordinary Least Squares to minimize the residual\n",
    "\n",
    "If we see that the relationship between any of the independent variables and the price is different than expected, or if any assumptions surrounding linear regression are broken, we will consider changing our model to another one. To make our results more accurate, we will also experiment with different kinds of regularization (OLS, L1, L2, Lasso) and different regularization strengths.\n"
   ]
  },
  {
   "attachments": {},
   "cell_type": "markdown",
   "metadata": {},
   "source": [
    "# Evaluation Metrics\n",
    "We will use the Mean Squared Error (MSE) to find the average difference between the actual and predicted values for craft beer prices, as it is the standard with Ordinary Least Squares. \n",
    "\n",
    "The equation for Mean Squared Error is:\n",
    "\n",
    "![](https://wikimedia.org/api/rest_v1/media/math/render/svg/ae01f23f2ed2814c7db94e1fdc952732f5ca533a)\n",
    "\n",
    "where given a vector of $n$ observations from a sample taken from $n$ data points on all independent variables, with $Y$ being the observed values being predicted and $\\hat{Y}$ being the predicted values."
   ]
  },
  {
   "cell_type": "markdown",
   "metadata": {},
   "source": [
    "# Ethics & Privacy"
   ]
  },
  {
   "attachments": {},
   "cell_type": "markdown",
   "metadata": {},
   "source": [
    "Because our data sets do not include people’s personal data or identifying information, there are no pressing data privacy concerns regarding our project. The data we are using was willfully posted to the internet by the bar that collected the data on itself and its own sales history. In addition, because the purpose of the project is to predict prices for a specific product in a specific area, there are no concerns about unethical or offensive biases against any group. \n",
    "\n",
    "Russia has one of highest alcoholism rates in the world. One unlikely but possible ethical concern is that someone may be struggling with alcohol abuse and use our models to see when beer will be least expensive. This could cause emotional and physical harm to them and those around them. We will address this issue by including resources that people struggling with alcohol abuse can use to reach out for help. "
   ]
  },
  {
   "cell_type": "markdown",
   "metadata": {},
   "source": [
    "# Team Expectations "
   ]
  },
  {
   "attachments": {},
   "cell_type": "markdown",
   "metadata": {},
   "source": [
    "- Try your best to get your part of the work done by our weekly meeting time\n",
    "- If you are unable to finish your part of the project, communicate beforehand\n",
    "- If you need help, reach out "
   ]
  },
  {
   "cell_type": "markdown",
   "metadata": {},
   "source": [
    "# Project Timeline Proposal"
   ]
  },
  {
   "attachments": {},
   "cell_type": "markdown",
   "metadata": {},
   "source": [
    "Replace this with something meaningful that is appropriate for your needs. It doesn't have to be something that fits this format.  It doesn't have to be set in stone... \"no battle plan survives contact with the enemy\". But you need a battle plan nonetheless, and you need to keep it updated so you understand what you are trying to accomplish, who's responsible for what, and what the expected due dates are for each item.\n",
    "\n",
    "| Meeting Date  | Meeting Time| Completed Before Meeting  | Discuss at Meeting |\n",
    "|---|---|---|---|\n",
    "| 2/22  |  1 PM |  Edit, finalize, and submit proposal; Search for datasets   | Discuss Wrangling and possible analytical approaches; Assign group members to lead each specific part | \n",
    "| 2/28  |  10 AM |  Import & Wrangle Data, do some EDA | Review/Edit wrangling/EDA; Discuss Analysis Plan | \n",
    "| 3/8  | 1 PM  | Finalize wrangling/EDA; Begin programming for project  | Discuss/edit project code; Complete project   |\n",
    "| 3/15  | 6 PM  | Complete analysis; Draft results/conclusion/discussion  | Discuss/edit full project  |\n",
    "| 3/22  | Before 11:59 PM  | NA | Turn in Final Project  |"
   ]
  },
  {
   "attachments": {},
   "cell_type": "markdown",
   "metadata": {},
   "source": [
    "# Footnotes\n",
    "<a name=\"war\"></a>1.[^](#war): “War in Ukraine Could Impact Beer Prices in US.” ABC7 Chicago, 27 Feb. 2022, https://abc7chicago.com/russia-ukraine-war-cost-of-beer-prices-craft/11603203/. <br> \n",
    "<a name=\"mccormick\"></a>2.[^](#mccormick): McCormick, Tom, and Posted by Tom McCormick. “War in Ukraine Has Far Reaching Impact on Alcohol Beverage Industry.” ProBrewer, 1 Mar. 2022, https://www.probrewer.com/beverage-industry-news/international/war-in-ukraine-has-far-reaching-impact-on-alcohol-beverage-industry/. <br>\n",
    "<a name=\"beeralytics\"></a>3.[^](#beeralytics): “Beeralytics — A Guide to Analyzing Beer Prices from Web Data.” Towards Data Science, 23 March, 2020, https://towardsdatascience.com/beeralytics-a-guide-to-analyzing-beer-prices-from-web-data-37d4ba206071.<br>\n",
    "<a name=\"jeevan\"></a>4.[^](#jeevan): “[Project] Predicting Alcohol Quality Using Machine Learning - Part I.” UpLevel, 28 July 2020, https://projects.uplevel.work/features/predicting-alcohol-quality-using-machine-learning. <br>\n",
    "<a name=\"forbes\"></a>5.[^](#forbes): “Trends Affecting The Restaurant Industry In 2022” Forbes, 16 March 2022, https://www.forbes.com/sites/garyocchiogrosso/2022/03/16/trends-affecting-the-restaurant-industry-in-2022/ . <br>"
   ]
  },
  {
   "cell_type": "markdown",
   "metadata": {},
   "source": []
  }
 ],
 "metadata": {
  "kernelspec": {
   "display_name": "Python 3",
   "language": "python",
   "name": "python3"
  },
  "language_info": {
   "codemirror_mode": {
    "name": "ipython",
    "version": 3
   },
   "file_extension": ".py",
   "mimetype": "text/x-python",
   "name": "python",
   "nbconvert_exporter": "python",
   "pygments_lexer": "ipython3",
   "version": "3.9.6"
  },
  "vscode": {
   "interpreter": {
    "hash": "31f2aee4e71d21fbe5cf8b01ff0e069b9275f58929596ceb00d14d90e3e16cd6"
   }
  }
 },
 "nbformat": 4,
 "nbformat_minor": 2
}
